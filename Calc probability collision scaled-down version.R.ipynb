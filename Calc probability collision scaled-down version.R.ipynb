{
 "cells": [
  {
   "cell_type": "markdown",
   "metadata": {
    "id": "bLt12_JW6Nu_"
   },
   "source": [
    "# Monte carlo simulation for NAEs hash collision"
   ]
  },
  {
   "cell_type": "markdown",
   "metadata": {
    "id": "7jmhhRkr8we9"
   },
   "source": [
    "### Simulate the simultaneous collision using the IP, Port and IP&Port NAEs with a reduced number of NAEs and maximum hash value. The number of NAEs and maximum hash value has been scaled down with a factor of 100."
   ]
  },
  {
   "cell_type": "markdown",
   "metadata": {
    "id": "iOudoqkR6Zqa"
   },
   "source": [
    "## Procedure\n",
    "### Step 1\n",
    "Create matrix (draw_matrix) with samples in rows and 12 columns, with the first 4 columns being the first draw (sample) for the source and destination addresses \n",
    " and the second draw for source and destination adresses, the following 8 columns are similar columns for the Port and IP&Port NAEs\n",
    "### Step 2\n",
    " Apply a hash function to draw_matrix using the maximum hash value (k). This produces the hashed_matrix.\n",
    "### Step 3\n",
    " Detect a hit (collision) if the first and second draw from the source have the same hash value and at the same time \n",
    " the first and second draw from the destination also have the same hash value. This procedure produce a matrix of three columns for the \n",
    " hits on ip, port and ip_port addresses. This produces the hit_matrix.\n",
    "### Step 4\n",
    " Calculate the probability of a simultaneous collision/hit in the ip, port and ip&port for the source and destiantion addresses."
   ]
  },
  {
   "cell_type": "code",
   "execution_count": 2,
   "metadata": {
    "colab": {
     "base_uri": "https://localhost:8080/"
    },
    "executionInfo": {
     "elapsed": 751,
     "status": "ok",
     "timestamp": 1609231673404,
     "user": {
      "displayName": "Manuel Lopez-Martin",
      "photoUrl": "https://lh3.googleusercontent.com/a-/AOh14GiHs6fiCLTexg9bOkEOioTINckLqsSsfo5rxoyJLg=s64",
      "userId": "05920962092300421674"
     },
     "user_tz": -60
    },
    "id": "93HOQHlN9ASs",
    "outputId": "4feb163e-232f-4029-d220-5359b4ae3573"
   },
   "outputs": [
    {
     "name": "stdout",
     "output_type": "stream",
     "text": [
      "The rpy2.ipython extension is already loaded. To reload it, use:\n",
      "  %reload_ext rpy2.ipython\n"
     ]
    }
   ],
   "source": [
    "%load_ext rpy2.ipython"
   ]
  },
  {
   "cell_type": "code",
   "execution_count": 3,
   "metadata": {
    "executionInfo": {
     "elapsed": 815,
     "status": "ok",
     "timestamp": 1609231677256,
     "user": {
      "displayName": "Manuel Lopez-Martin",
      "photoUrl": "https://lh3.googleusercontent.com/a-/AOh14GiHs6fiCLTexg9bOkEOioTINckLqsSsfo5rxoyJLg=s64",
      "userId": "05920962092300421674"
     },
     "user_tz": -60
    },
    "id": "Lv6N4vBR-nmr"
   },
   "outputs": [],
   "source": [
    "%%R\n",
    "library(digest)\n",
    "\n",
    "hex_to_int = function(h) {\n",
    "  # transform hex to int\n",
    "  xx = strsplit(tolower(h), \"\")[[1L]]\n",
    "  pos = match(xx, c(0L:9L, letters[1L:6L]))\n",
    "  sum((pos - 1L) * 16^(rev(seq_along(xx) - 1)))\n",
    "}\n",
    "\n",
    "\n",
    "w=sample(1:100000, 1)\n",
    "source_and_dest_draw <- function(num_max) {\n",
    "  #draw a source and dest number from the range [1-num_max]\n",
    "  w <<- w+1\n",
    "  set.seed(w) #This is necessary because the clock time does not chage fast enough\n",
    "  return(sample(1:num_max,2,replace=F))\n",
    "}\n",
    "\n",
    "hash_all <- function(vals) {\n",
    "  # convert numbers to hash values \n",
    "  # the hashed valued are in the range [1-num_max]\n",
    "  return(sapply(vals,hash_element) )\n",
    "}\n",
    "\n",
    "\n",
    "hash_element <- function(val) {\n",
    "  # convert numbers to hash values \n",
    "  # the hashed valued are in the range [1-k]\n",
    "  return(hex_to_int(digest(val, algo='xxhash32'))%% k) \n",
    "}\n"
   ]
  },
  {
   "cell_type": "code",
   "execution_count": 4,
   "metadata": {
    "executionInfo": {
     "elapsed": 470,
     "status": "ok",
     "timestamp": 1609231677703,
     "user": {
      "displayName": "Manuel Lopez-Martin",
      "photoUrl": "https://lh3.googleusercontent.com/a-/AOh14GiHs6fiCLTexg9bOkEOioTINckLqsSsfo5rxoyJLg=s64",
      "userId": "05920962092300421674"
     },
     "user_tz": -60
    },
    "id": "jI2i9xh6-XZu"
   },
   "outputs": [],
   "source": [
    "%%R\n",
    "k = 30         # max hash value\n",
    "num_ip = 90  # number of unique ip elements\n",
    "num_port = 600  # number of unique portelements \n",
    "num_ip_port = 2000  # number of unique ip&pot elements"
   ]
  },
  {
   "cell_type": "code",
   "execution_count": 5,
   "metadata": {
    "colab": {
     "base_uri": "https://localhost:8080/"
    },
    "executionInfo": {
     "elapsed": 1358,
     "status": "ok",
     "timestamp": 1609231692786,
     "user": {
      "displayName": "Manuel Lopez-Martin",
      "photoUrl": "https://lh3.googleusercontent.com/a-/AOh14GiHs6fiCLTexg9bOkEOioTINckLqsSsfo5rxoyJLg=s64",
      "userId": "05920962092300421674"
     },
     "user_tz": -60
    },
    "id": "Bo0qn7o7MCZc",
    "outputId": "02ee2c2b-d5c3-47a2-dbca-e638b34a5b0c"
   },
   "outputs": [
    {
     "name": "stdout",
     "output_type": "stream",
     "text": [
      "[1] \"Probability total hit : 0\"\n"
     ]
    }
   ],
   "source": [
    "%%R\n",
    "\n",
    "N_samples = 1e+7   # number of samples taken for the simulation\n",
    "hit_matrix = matrix(NA,nrow=N_samples,ncol=3)\n",
    "colnames(hit_matrix) <- c(\"ip_hit\", \"port_hit\", \"ip_port_hot\")\n",
    "hashed_matrix = matrix(NA,nrow=N_samples,ncol=12)\n",
    "colnames(hashed_matrix) <- c(\"ip_s_1\", \"ip_d_1\", \"ip_s_2\",\"ip_d_2\",\"port_s_1\", \"port_d_1\", \"port_s_2\",\"port_d_2\", \"ip_port_s_1\", \"ip_port_d_1\", \"ip_port_s_2\",\"ip_port_d_2\")\n",
    "draw_matrix = matrix(NA,nrow=N_samples,ncol=12)\n",
    "colnames(draw_matrix) <- c(\"ip_s_1\", \"ip_d_1\", \"ip_s_2\",\"ip_d_2\",\"port_s_1\", \"port_d_1\", \"port_s_2\",\"port_d_2\", \"ip_port_s_1\", \"ip_port_d_1\", \"ip_port_s_2\",\"ip_port_d_2\")\n",
    "for (i in 1:N_samples){\n",
    "  ip_draw = c( source_and_dest_draw(num_ip), source_and_dest_draw(num_ip) ) # Step 1. For IP addresses\n",
    "  ip_hashed = hash_all(ip_draw)                                             # Step 2. For IP addresses\n",
    "  ip_hit = (ip_hashed[1]==ip_hashed[3]) & (ip_hashed[2]==ip_hashed[4])      # Step 3. For IP addresses\n",
    "\n",
    "  port_draw = c( source_and_dest_draw(num_port), source_and_dest_draw(num_port) ) # Step 1. For Port addresses\n",
    "  port_hashed = hash_all(port_draw)                                               # Step 2. For Port addresses\n",
    "  port_hit = (port_hashed[1]==port_hashed[3]) & (port_hashed[2]==port_hashed[4])  # Step 3. For Port addresses\n",
    "  \n",
    "  ip_port_draw = c( source_and_dest_draw(num_ip_port), source_and_dest_draw(num_ip_port) )       # Step 1. For IP_Port addresses\n",
    "  ip_port_hashed = hash_all(ip_port_draw)                                                        # Step 2. For IP_Port addresses\n",
    "  ip_port_hit = (ip_port_hashed[1]==ip_port_hashed[3]) & (ip_port_hashed[2]==ip_port_hashed[4])  # Step 3. For IP_Port addresses\n",
    "\n",
    "  #build the final matrices\n",
    "  hit_matrix[i,] = cbind(ip_hit,port_hit,ip_port_hit)\n",
    "  hashed_matrix[i,] = cbind(ip_hashed,port_hashed,ip_port_hashed)\n",
    "  draw_matrix[i,] = cbind(ip_draw,port_draw,ip_port_draw)\n",
    "}\n",
    "\n",
    "\n",
    "vector_total_hits = apply(hit_matrix, 1, all)   # Step 4. Calculate the probability of a simultaneous hit for all NAEs\n",
    "prob_total_hit = mean(vector_total_hits)        # Step 4\n",
    "print(paste0(\"Probability total hit : \",prob_total_hit))\n",
    "\n"
   ]
  },
  {
   "cell_type": "code",
   "execution_count": null,
   "metadata": {
    "colab": {
     "base_uri": "https://localhost:8080/"
    },
    "executionInfo": {
     "elapsed": 898,
     "status": "ok",
     "timestamp": 1608662565270,
     "user": {
      "displayName": "Manuel Lopez-Martin",
      "photoUrl": "https://lh3.googleusercontent.com/a-/AOh14GiHs6fiCLTexg9bOkEOioTINckLqsSsfo5rxoyJLg=s64",
      "userId": "05920962092300421674"
     },
     "user_tz": -60
    },
    "id": "tfdY5hm1ufDl",
    "outputId": "3a821e56-4ec6-42cd-8e61-7e819a077dfb"
   },
   "outputs": [
    {
     "name": "stdout",
     "output_type": "stream",
     "text": [
      "[1] \"Probability IP hit : 0.0022053\"\n",
      "[1] \"Probability Port hit : 0.0011835\"\n",
      "[1] \"Probability IP&Port hit : 0.0011342\"\n"
     ]
    }
   ],
   "source": [
    "%%R\n",
    "\n",
    "# Probabilities of collision on IP, Port and IP&Port separately\n",
    "prob_ip_hit = mean(hit_matrix[,1]) \n",
    "print(paste0(\"Probability IP hit : \",prob_ip_hit))\n",
    "prob_port_hit = mean(hit_matrix[,2]) \n",
    "print(paste0(\"Probability Port hit : \",prob_port_hit))\n",
    "prob_ip_port_hit = mean(hit_matrix[,3]) \n",
    "print(paste0(\"Probability IP&Port hit : \",prob_ip_port_hit))"
   ]
  },
  {
   "cell_type": "code",
   "execution_count": null,
   "metadata": {
    "colab": {
     "base_uri": "https://localhost:8080/"
    },
    "executionInfo": {
     "elapsed": 795,
     "status": "ok",
     "timestamp": 1608662626943,
     "user": {
      "displayName": "Manuel Lopez-Martin",
      "photoUrl": "https://lh3.googleusercontent.com/a-/AOh14GiHs6fiCLTexg9bOkEOioTINckLqsSsfo5rxoyJLg=s64",
      "userId": "05920962092300421674"
     },
     "user_tz": -60
    },
    "id": "3CAfKkXawL90",
    "outputId": "73b5f898-d86b-4586-eec4-6e7099d52b8c"
   },
   "outputs": [
    {
     "name": "stdout",
     "output_type": "stream",
     "text": [
      "[1] 0.001111111\n",
      "[1] 1.371742e-09\n"
     ]
    }
   ],
   "source": [
    "%%R\n",
    "# Theoretical probability for a single NAE\n",
    "print((1/k)**2)\n",
    "# Theoretical probability for all 3 NAEs\n",
    "print((1/k)**6)"
   ]
  },
  {
   "cell_type": "code",
   "execution_count": null,
   "metadata": {
    "colab": {
     "base_uri": "https://localhost:8080/"
    },
    "executionInfo": {
     "elapsed": 814,
     "status": "ok",
     "timestamp": 1608662700630,
     "user": {
      "displayName": "Manuel Lopez-Martin",
      "photoUrl": "https://lh3.googleusercontent.com/a-/AOh14GiHs6fiCLTexg9bOkEOioTINckLqsSsfo5rxoyJLg=s64",
      "userId": "05920962092300421674"
     },
     "user_tz": -60
    },
    "id": "sYWIR5_zObXe",
    "outputId": "697a24da-1a9b-4dfe-af95-94007f9453d2"
   },
   "outputs": [
    {
     "name": "stdout",
     "output_type": "stream",
     "text": [
      "      ip_hit port_hit ip_port_hot\n",
      " [1,]  FALSE    FALSE       FALSE\n",
      " [2,]  FALSE    FALSE       FALSE\n",
      " [3,]  FALSE    FALSE       FALSE\n",
      " [4,]  FALSE    FALSE       FALSE\n",
      " [5,]  FALSE    FALSE       FALSE\n",
      " [6,]  FALSE    FALSE       FALSE\n",
      " [7,]  FALSE    FALSE       FALSE\n",
      " [8,]  FALSE    FALSE       FALSE\n",
      " [9,]  FALSE    FALSE       FALSE\n",
      "[10,]  FALSE    FALSE       FALSE\n",
      "[11,]  FALSE    FALSE       FALSE\n",
      "[12,]  FALSE    FALSE       FALSE\n",
      "[13,]  FALSE    FALSE       FALSE\n",
      "[14,]  FALSE    FALSE       FALSE\n",
      "[15,]  FALSE    FALSE       FALSE\n",
      "[16,]  FALSE    FALSE       FALSE\n",
      "[17,]  FALSE    FALSE       FALSE\n",
      "[18,]  FALSE    FALSE       FALSE\n",
      "[19,]  FALSE    FALSE       FALSE\n",
      "[20,]  FALSE    FALSE       FALSE\n"
     ]
    }
   ],
   "source": [
    "%%R\n",
    "hit_matrix[1:20,]"
   ]
  },
  {
   "cell_type": "code",
   "execution_count": null,
   "metadata": {
    "colab": {
     "base_uri": "https://localhost:8080/"
    },
    "executionInfo": {
     "elapsed": 1241,
     "status": "ok",
     "timestamp": 1608662703177,
     "user": {
      "displayName": "Manuel Lopez-Martin",
      "photoUrl": "https://lh3.googleusercontent.com/a-/AOh14GiHs6fiCLTexg9bOkEOioTINckLqsSsfo5rxoyJLg=s64",
      "userId": "05920962092300421674"
     },
     "user_tz": -60
    },
    "id": "byK77hzqOyiC",
    "outputId": "0674e13c-f4f9-40d1-9161-9a46b8bb7eaf"
   },
   "outputs": [
    {
     "name": "stdout",
     "output_type": "stream",
     "text": [
      "      ip_s_1 ip_d_1 ip_s_2 ip_d_2 port_s_1 port_d_1 port_s_2 port_d_2\n",
      " [1,]     64      3     49     20      216      384      264      338\n",
      " [2,]     53     22     46     64      137      562      245       99\n",
      " [3,]     45     49     19     54      488      466      328       77\n",
      " [4,]     68     42     73      9      256      580      517      418\n",
      " [5,]     50     51      6     61      149      205      560      231\n",
      " [6,]     17      3      4      7      354      283       24      130\n",
      " [7,]     30     13     15     18      425      552      439       81\n",
      " [8,]     69     50      5     56      228        8      550      333\n",
      " [9,]     36     65     23     37      120       25      249      374\n",
      "[10,]     83     87     18     70      586       71      161      130\n",
      "[11,]     17     72     58     78      442      486      438      399\n",
      "[12,]     38     87     56     42      581      506      393       44\n",
      "[13,]     60     74     79      5      576      577        1        5\n",
      "[14,]     71     45     68      6      361      227      458      234\n",
      "[15,]     77     13     15     24      556      192      518      165\n",
      "[16,]     45     79     45     53      156      600      569      167\n",
      "[17,]      9     87     81     46      278      501      304      518\n",
      "[18,]     59     67     85     37      550      252      105      389\n",
      "[19,]     44     72     20     60      594      585      354        5\n",
      "[20,]     48     89     19     37      422      185      476      553\n",
      "      ip_port_s_1 ip_port_d_1 ip_port_s_2 ip_port_d_2\n",
      " [1,]        1734          83         878         479\n",
      " [2,]         336        1287         635         357\n",
      " [3,]         147        1892         616        1892\n",
      " [4,]        1590          94        1229        1138\n",
      " [5,]        1338         110         892        1752\n",
      " [6,]        1353         304         310         736\n",
      " [7,]         392        1849        1910        1130\n",
      " [8,]        1389         555          61         411\n",
      " [9,]         903        1828        1713        1484\n",
      "[10,]        1003        1256        1307        1091\n",
      "[11,]          16        1653         639         443\n",
      "[12,]        1324        1686        1665        1854\n",
      "[13,]         469         681         860         492\n",
      "[14,]         125         148        1607        1115\n",
      "[15,]        1682        1669        1214        1766\n",
      "[16,]        1535         793        1274        1683\n",
      "[17,]         447        1450        1516        1835\n",
      "[18,]        1876        1432        1157        1126\n",
      "[19,]         489         168        1845        1682\n",
      "[20,]        1252        1020        1568         497\n"
     ]
    }
   ],
   "source": [
    "%%R\n",
    "draw_matrix[1:20,]"
   ]
  },
  {
   "cell_type": "code",
   "execution_count": null,
   "metadata": {
    "colab": {
     "base_uri": "https://localhost:8080/"
    },
    "executionInfo": {
     "elapsed": 1145,
     "status": "ok",
     "timestamp": 1608662705185,
     "user": {
      "displayName": "Manuel Lopez-Martin",
      "photoUrl": "https://lh3.googleusercontent.com/a-/AOh14GiHs6fiCLTexg9bOkEOioTINckLqsSsfo5rxoyJLg=s64",
      "userId": "05920962092300421674"
     },
     "user_tz": -60
    },
    "id": "iuiMjAmMOy9-",
    "outputId": "77857c80-f2f0-4e0c-c564-b62afdb41e34"
   },
   "outputs": [
    {
     "name": "stdout",
     "output_type": "stream",
     "text": [
      "      ip_s_1 ip_d_1 ip_s_2 ip_d_2 port_s_1 port_d_1 port_s_2 port_d_2\n",
      " [1,]      4     27     21     22       29       10        7        8\n",
      " [2,]     10      5      5      4        3       24       15       18\n",
      " [3,]      6     21     23     17       24       19        5       13\n",
      " [4,]     12     28     17     20       14       23       29       10\n",
      " [5,]     24     22     17     22       11       11        1       17\n",
      " [6,]     16     27      6     17       20        0        9       13\n",
      " [7,]     28      9     26     13        4       16       28       11\n",
      " [8,]     27     24      0      2       24       27       16       27\n",
      " [9,]     22      6      4     17       22        6       20       18\n",
      "[10,]     17      2     13      6        3       27       16       13\n",
      "[11,]     16     29     11     20       25       23       18       28\n",
      "[12,]      0      2      2     28       15       14       26        0\n",
      "[13,]      7      2      2      0       29       19        3        0\n",
      "[14,]     27      6     12     17       26       11       19       20\n",
      "[15,]     13      9     26      9       14       24       15        0\n",
      "[16,]      6      2      6     10        2       18       12       10\n",
      "[17,]     20      2     11      5        6       29        5       15\n",
      "[18,]     18     26      7     17       16       10       23       23\n",
      "[19,]      0     29     22      7       25        7       20        0\n",
      "[20,]     22     27     23     17       28       29       18        8\n",
      "      ip_port_s_1 ip_port_d_1 ip_port_s_2 ip_port_d_2\n",
      " [1,]          27          17          15          19\n",
      " [2,]          10           3           1          16\n",
      " [3,]          29           5           4           5\n",
      " [4,]          28           9           8           6\n",
      " [5,]           3           9          10           1\n",
      " [6,]          22           5          11           7\n",
      " [7,]           3          11           2          21\n",
      " [8,]          25          10          22          23\n",
      " [9,]          10           7           6          17\n",
      "[10,]           0          24           9           8\n",
      "[11,]           7          17          24          19\n",
      "[12,]          13           8          24           2\n",
      "[13,]          23          13          20           4\n",
      "[14,]           5          16           4          24\n",
      "[15,]          12          13          24          14\n",
      "[16,]           2          21          13           4\n",
      "[17,]          10          10           3           0\n",
      "[18,]          13          23          25           6\n",
      "[19,]          21          19          26          12\n",
      "[20,]          28          17          14          26\n"
     ]
    }
   ],
   "source": [
    "%%R\n",
    "hashed_matrix[1:20,]"
   ]
  },
  {
   "cell_type": "code",
   "execution_count": null,
   "metadata": {},
   "outputs": [],
   "source": []
  }
 ],
 "metadata": {
  "colab": {
   "authorship_tag": "ABX9TyNaH6IZwn9VybakQ7CI+8ah",
   "collapsed_sections": [],
   "name": "Copy of Calc probability collision scaled-down version.R",
   "provenance": []
  },
  "kernelspec": {
   "display_name": "Python 3",
   "language": "python",
   "name": "python3"
  },
  "language_info": {
   "codemirror_mode": {
    "name": "ipython",
    "version": 3
   },
   "file_extension": ".py",
   "mimetype": "text/x-python",
   "name": "python",
   "nbconvert_exporter": "python",
   "pygments_lexer": "ipython3",
   "version": "3.6.7"
  }
 },
 "nbformat": 4,
 "nbformat_minor": 1
}
