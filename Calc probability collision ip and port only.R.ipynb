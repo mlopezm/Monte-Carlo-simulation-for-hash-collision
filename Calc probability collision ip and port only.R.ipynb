{
 "cells": [
  {
   "cell_type": "markdown",
   "metadata": {
    "id": "bLt12_JW6Nu_"
   },
   "source": [
    "# Monte carlo simulation for NAEs hash collision"
   ]
  },
  {
   "cell_type": "markdown",
   "metadata": {
    "id": "7jmhhRkr8we9"
   },
   "source": [
    "### Simulate the simultaneous collision using only the IP and Port NAEs with the total number of NAEs present in the CICIDS2017 dataset: 8330, 62434 different values for the (source and destination) IP and Port NAEs, respectively. The simulation is done with a maximum hash value of 3000."
   ]
  },
  {
   "cell_type": "markdown",
   "metadata": {
    "id": "iOudoqkR6Zqa"
   },
   "source": [
    "## Procedure\n",
    "### Step 1\n",
    "Create matrix (draw_matrix) with samples in rows and 8 columns, with the first 4 columns being the first draw (sample) for the source and destination addresses \n",
    " and the second draw for source and destination adresses, the following 4 columns are similar columns for the Port NAE\n",
    "### Step 2\n",
    " Apply a hash function to draw_matrix using the maximum hash value (k). This produces the hashed_matrix.\n",
    "### Step 3\n",
    " Detect a hit (collision) if the first and second draw from the source have the same hash value and at the same time \n",
    " the first and second draw from the destination also have the same hash value. This procedure produce a matrix of three columns for the \n",
    " hits on ip, port addresses. This produces the hit_matrix.\n",
    "### Step 4\n",
    " Calculate the probability of a simultaneous collision/hit in the ip, port and ip&port for the source and destiantion addresses."
   ]
  },
  {
   "cell_type": "code",
   "execution_count": null,
   "metadata": {
    "colab": {
     "base_uri": "https://localhost:8080/"
    },
    "executionInfo": {
     "elapsed": 911,
     "status": "ok",
     "timestamp": 1609230663661,
     "user": {
      "displayName": "Manuel Lopez-Martin",
      "photoUrl": "https://lh3.googleusercontent.com/a-/AOh14GiHs6fiCLTexg9bOkEOioTINckLqsSsfo5rxoyJLg=s64",
      "userId": "05920962092300421674"
     },
     "user_tz": -60
    },
    "id": "BQA0pBmMLYTd",
    "outputId": "98d08d49-5169-4b28-8adf-b6e883736d0b"
   },
   "outputs": [
    {
     "name": "stdout",
     "output_type": "stream",
     "text": [
      "The rpy2.ipython extension is already loaded. To reload it, use:\n",
      "  %reload_ext rpy2.ipython\n"
     ]
    }
   ],
   "source": [
    "%load_ext rpy2.ipython"
   ]
  },
  {
   "cell_type": "code",
   "execution_count": null,
   "metadata": {
    "id": "XYna5AnVLtA9"
   },
   "outputs": [],
   "source": [
    "%%R\n",
    "library(digest)\n",
    "\n",
    "hex_to_int = function(h) {\n",
    "  # transform hex to int\n",
    "  xx = strsplit(tolower(h), \"\")[[1L]]\n",
    "  pos = match(xx, c(0L:9L, letters[1L:6L]))\n",
    "  sum((pos - 1L) * 16^(rev(seq_along(xx) - 1)))\n",
    "}\n",
    "\n",
    "w=sample(1:100000, 1)\n",
    "source_and_dest_draw <- function(num_max) {\n",
    "  #draw a source and dest number from the range [1-num_max]\n",
    "  w <<- w+1\n",
    "  set.seed(w) #This is necessary because the clock time does not chage fast enough\n",
    "  return(sample(1:num_max,2,replace=F))\n",
    "}\n",
    "\n",
    "hash_all <- function(vals) {\n",
    "  # convert numbers to hash values \n",
    "  # the hashed valued are in the range [1-num_max]\n",
    "  return(sapply(vals,hash_element) )\n",
    "}\n",
    "\n",
    "\n",
    "hash_element <- function(val) {\n",
    "  # convert numbers to hash values \n",
    "  # the hashed valued are in the range [1-k]\n",
    "  return(hex_to_int(digest(val, algo='xxhash32'))%% k) \n",
    "}\n"
   ]
  },
  {
   "cell_type": "code",
   "execution_count": null,
   "metadata": {
    "id": "3aDdcW4O58Ja"
   },
   "outputs": [],
   "source": [
    "%%R\n",
    "k = 3000        # max hash value\n",
    "num_ip = 8330  # number of unique ip elements\n",
    "num_port = 62434   # number of unique portelements \n",
    "#num_ip_port = 218406   # number of unique ip&pot elements"
   ]
  },
  {
   "cell_type": "code",
   "execution_count": null,
   "metadata": {
    "colab": {
     "base_uri": "https://localhost:8080/"
    },
    "executionInfo": {
     "elapsed": 1412,
     "status": "ok",
     "timestamp": 1609230689249,
     "user": {
      "displayName": "Manuel Lopez-Martin",
      "photoUrl": "https://lh3.googleusercontent.com/a-/AOh14GiHs6fiCLTexg9bOkEOioTINckLqsSsfo5rxoyJLg=s64",
      "userId": "05920962092300421674"
     },
     "user_tz": -60
    },
    "id": "Bo0qn7o7MCZc",
    "outputId": "9f2fdd0b-0ef7-4005-aa27-13a04d95a49a"
   },
   "outputs": [
    {
     "name": "stdout",
     "output_type": "stream",
     "text": [
      "[1] \"Probability total hit : 0\"\n"
     ]
    }
   ],
   "source": [
    "%%R\n",
    "\n",
    "N_samples = 1e+7   # number of samples taken for the simulation\n",
    "hit_matrix = matrix(NA,nrow=N_samples,ncol=2)\n",
    "colnames(hit_matrix) <- c(\"ip_hit\", \"port_hit\")\n",
    "hashed_matrix = matrix(NA,nrow=N_samples,ncol=8)\n",
    "colnames(hashed_matrix) <- c(\"ip_s_1\", \"ip_d_1\", \"ip_s_2\",\"ip_d_2\",\"port_s_1\", \"port_d_1\", \"port_s_2\",\"port_d_2\")\n",
    "draw_matrix = matrix(NA,nrow=N_samples,ncol=8)\n",
    "colnames(draw_matrix) <- c(\"ip_s_1\", \"ip_d_1\", \"ip_s_2\",\"ip_d_2\",\"port_s_1\", \"port_d_1\", \"port_s_2\",\"port_d_2\")\n",
    "for (i in 1:N_samples){\n",
    "  ip_draw = c( source_and_dest_draw(num_ip), source_and_dest_draw(num_ip) ) # Step 1. For IP addresses\n",
    "  ip_hashed = hash_all(ip_draw)                                             # Step 2. For IP addresses\n",
    "  ip_hit = (ip_hashed[1]==ip_hashed[3]) & (ip_hashed[2]==ip_hashed[4])      # Step 3. For IP addresses\n",
    "\n",
    "  port_draw = c( source_and_dest_draw(num_port), source_and_dest_draw(num_port) ) # Step 1. For Port addresses\n",
    "  port_hashed = hash_all(port_draw)                                               # Step 2. For Port addresses\n",
    "  port_hit = (port_hashed[1]==port_hashed[3]) & (port_hashed[2]==port_hashed[4])  # Step 3. For Port addresses\n",
    "  \n",
    "  #ip_port_draw = c( source_and_dest_draw(num_ip_port), source_and_dest_draw(num_ip_port) )       # Step 1. For IP_Port addresses\n",
    "  #ip_port_hashed = hash_all(ip_port_draw)                                                        # Step 2. For IP_Port addresses\n",
    "  #ip_port_hit = (ip_port_hashed[1]==ip_port_hashed[3]) & (ip_port_hashed[2]==ip_port_hashed[4])  # Step 3. For IP_Port addresses\n",
    "\n",
    "  #build the final matrices\n",
    "  hit_matrix[i,] = cbind(ip_hit,port_hit)\n",
    "  hashed_matrix[i,] = cbind(ip_hashed,port_hashed)\n",
    "  draw_matrix[i,] = cbind(ip_draw,port_draw)\n",
    "}\n",
    "\n",
    "\n",
    "vector_total_hits = apply(hit_matrix, 1, all)   # Step 4. Calculate the probability of a simultaneous hit for all NAEs\n",
    "prob_total_hit = mean(vector_total_hits)        # Step 4\n",
    "print(paste0(\"Probability total hit : \",prob_total_hit))\n"
   ]
  },
  {
   "cell_type": "code",
   "execution_count": null,
   "metadata": {
    "colab": {
     "base_uri": "https://localhost:8080/"
    },
    "executionInfo": {
     "elapsed": 830,
     "status": "ok",
     "timestamp": 1608670285264,
     "user": {
      "displayName": "Manuel Lopez-Martin",
      "photoUrl": "https://lh3.googleusercontent.com/a-/AOh14GiHs6fiCLTexg9bOkEOioTINckLqsSsfo5rxoyJLg=s64",
      "userId": "05920962092300421674"
     },
     "user_tz": -60
    },
    "id": "tfdY5hm1ufDl",
    "outputId": "d5c2ae9c-a806-4ff5-a683-503b87d75c68"
   },
   "outputs": [
    {
     "name": "stdout",
     "output_type": "stream",
     "text": [
      "[1] \"Probability IP hit : 2e-07\"\n",
      "[1] \"Probability Port hit : 2e-07\"\n"
     ]
    }
   ],
   "source": [
    "%%R\n",
    "\n",
    "# Probabilities of collision on IP, Port separately\n",
    "prob_ip_hit = mean(hit_matrix[,1]) \n",
    "print(paste0(\"Probability IP hit : \",prob_ip_hit))\n",
    "prob_port_hit = mean(hit_matrix[,2]) \n",
    "print(paste0(\"Probability Port hit : \",prob_port_hit))"
   ]
  },
  {
   "cell_type": "code",
   "execution_count": null,
   "metadata": {
    "colab": {
     "base_uri": "https://localhost:8080/"
    },
    "executionInfo": {
     "elapsed": 594,
     "status": "ok",
     "timestamp": 1608670288835,
     "user": {
      "displayName": "Manuel Lopez-Martin",
      "photoUrl": "https://lh3.googleusercontent.com/a-/AOh14GiHs6fiCLTexg9bOkEOioTINckLqsSsfo5rxoyJLg=s64",
      "userId": "05920962092300421674"
     },
     "user_tz": -60
    },
    "id": "ofKlv2hDOGSc",
    "outputId": "612e7431-9ab0-414c-a905-60116b2a0cfa"
   },
   "outputs": [
    {
     "name": "stdout",
     "output_type": "stream",
     "text": [
      "[1] 1.111111e-07\n",
      "[1] 1.371742e-21\n"
     ]
    }
   ],
   "source": [
    "%%R\n",
    "# Theoretical probability for a single NAE\n",
    "print((1/k)**2)\n",
    "# Theoretical probability for all 3 NAEs\n",
    "print((1/k)**6)"
   ]
  },
  {
   "cell_type": "code",
   "execution_count": null,
   "metadata": {
    "colab": {
     "base_uri": "https://localhost:8080/"
    },
    "executionInfo": {
     "elapsed": 617,
     "status": "ok",
     "timestamp": 1608670316361,
     "user": {
      "displayName": "Manuel Lopez-Martin",
      "photoUrl": "https://lh3.googleusercontent.com/a-/AOh14GiHs6fiCLTexg9bOkEOioTINckLqsSsfo5rxoyJLg=s64",
      "userId": "05920962092300421674"
     },
     "user_tz": -60
    },
    "id": "sYWIR5_zObXe",
    "outputId": "8430d4ef-6536-48cf-c1c4-3a023b941d2c"
   },
   "outputs": [
    {
     "name": "stdout",
     "output_type": "stream",
     "text": [
      "      ip_hit port_hit\n",
      " [1,]  FALSE    FALSE\n",
      " [2,]  FALSE    FALSE\n",
      " [3,]  FALSE    FALSE\n",
      " [4,]  FALSE    FALSE\n",
      " [5,]  FALSE    FALSE\n",
      " [6,]  FALSE    FALSE\n",
      " [7,]  FALSE    FALSE\n",
      " [8,]  FALSE    FALSE\n",
      " [9,]  FALSE    FALSE\n",
      "[10,]  FALSE    FALSE\n",
      "[11,]  FALSE    FALSE\n",
      "[12,]  FALSE    FALSE\n",
      "[13,]  FALSE    FALSE\n",
      "[14,]  FALSE    FALSE\n",
      "[15,]  FALSE    FALSE\n",
      "[16,]  FALSE    FALSE\n",
      "[17,]  FALSE    FALSE\n",
      "[18,]  FALSE    FALSE\n",
      "[19,]  FALSE    FALSE\n",
      "[20,]  FALSE    FALSE\n"
     ]
    }
   ],
   "source": [
    "%%R\n",
    "hit_matrix[1:20,]"
   ]
  },
  {
   "cell_type": "code",
   "execution_count": null,
   "metadata": {
    "colab": {
     "base_uri": "https://localhost:8080/"
    },
    "executionInfo": {
     "elapsed": 1250,
     "status": "ok",
     "timestamp": 1608670317583,
     "user": {
      "displayName": "Manuel Lopez-Martin",
      "photoUrl": "https://lh3.googleusercontent.com/a-/AOh14GiHs6fiCLTexg9bOkEOioTINckLqsSsfo5rxoyJLg=s64",
      "userId": "05920962092300421674"
     },
     "user_tz": -60
    },
    "id": "byK77hzqOyiC",
    "outputId": "c3127d5b-5d8e-48a6-94f0-869c0209511a"
   },
   "outputs": [
    {
     "name": "stdout",
     "output_type": "stream",
     "text": [
      "      ip_s_1 ip_d_1 ip_s_2 ip_d_2 port_s_1 port_d_1 port_s_2 port_d_2\n",
      " [1,]   4277   6101   1475   3542    51524    24047    44229    38960\n",
      " [2,]   1728   5855   2219   7702    28318    55430    12060    48848\n",
      " [3,]   5726   6583   1623   6986    30708     1821    60306    61032\n",
      " [4,]   3279   2082   6362   5759     7353    37262    49491    19239\n",
      " [5,]   3658    182   3470   2239     9530    15573    44032     9275\n",
      " [6,]   5987   5225   3491   2750    30590    34133    45354     1349\n",
      " [7,]   6285   4548   5056    602    26689    18134    33434    41391\n",
      " [8,]   3928   5813   3203   6950     2946     3109    29243    45347\n",
      " [9,]   7930   3715   5473   6064     5217     8218    18131     5763\n",
      "[10,]   3238    959   1473   2737    16786    56559    40156    55779\n",
      "[11,]   5450   7080   4303   7287    51988    56731    39183     1336\n",
      "[12,]   4613   2709   6586   4468    10457    58840    47672    18889\n",
      "[13,]   3873   1941   6048   4928    23602    43875      168    10515\n",
      "[14,]   3488   1609   1581   7738    26607     6476    32612    42216\n",
      "[15,]   5526   2583   5578    625    57041    50739    61046    22570\n",
      "[16,]   2729   4208   4868   1131    39652    30708    31617    58119\n",
      "[17,]   3041   7971   3242   2660    60566    59766    31720    33539\n",
      "[18,]    952   2654   3195   7225    56859    40883    51606    48855\n",
      "[19,]   1142    230   7164   7853    10484    46624    19122    16178\n",
      "[20,]   5479   3973   1854   1635    37553    61440    17774    30163\n"
     ]
    }
   ],
   "source": [
    "%%R\n",
    "draw_matrix[1:20,]"
   ]
  },
  {
   "cell_type": "code",
   "execution_count": null,
   "metadata": {
    "colab": {
     "base_uri": "https://localhost:8080/"
    },
    "executionInfo": {
     "elapsed": 1078,
     "status": "ok",
     "timestamp": 1608670318066,
     "user": {
      "displayName": "Manuel Lopez-Martin",
      "photoUrl": "https://lh3.googleusercontent.com/a-/AOh14GiHs6fiCLTexg9bOkEOioTINckLqsSsfo5rxoyJLg=s64",
      "userId": "05920962092300421674"
     },
     "user_tz": -60
    },
    "id": "iuiMjAmMOy9-",
    "outputId": "64f9edb0-04a8-44d7-be3a-9b5ed54590b1"
   },
   "outputs": [
    {
     "name": "stdout",
     "output_type": "stream",
     "text": [
      "      ip_s_1 ip_d_1 ip_s_2 ip_d_2 port_s_1 port_d_1 port_s_2 port_d_2\n",
      " [1,]   2884    738   2824   2541     2067     2204      697     1339\n",
      " [2,]    326   1996    549   2716      722     1570      231     2237\n",
      " [3,]   2642   2948   1159   2524      686     1740     1488     2818\n",
      " [4,]   2998   2629   1928   1128     1602     1767     1945     2248\n",
      " [5,]    419   1624   2364   1860      888     2392     1910     1440\n",
      " [6,]   1575    378   2004    360     2732     2882     1000     2260\n",
      " [7,]    439   1800   1303   2183     2040     1286     1751      541\n",
      " [8,]    316    442   1388    820     2439      285     2784     2941\n",
      " [9,]   1272   2302   2838    741      851     1532      323      322\n",
      "[10,]    449   2444   2506   2408     1177     2618     1508       30\n",
      "[11,]    508    107   1671    309        0     1606      700     1008\n",
      "[12,]   1954   2746   1656   1430     1861     1719     1150     2960\n",
      "[13,]   2203   2621    265    949     1597      515      169      967\n",
      "[14,]   1228    823   1433   2170     2104     1533      943     1768\n",
      "[15,]   1263   1398   2013   2642      298     2507     2250      140\n",
      "[16,]   1059   1832   1550   1699     2441      686      449       24\n",
      "[17,]    458   2207   1174   1276      671     2912     2782     1746\n",
      "[18,]   1329      9   2120   2961     2498     1817     2161      980\n",
      "[19,]   1727    175     34    427       40     1993      922     2097\n",
      "[20,]    518   2198   1892   1859     2227      103     2888     2567\n"
     ]
    }
   ],
   "source": [
    "%%R\n",
    "hashed_matrix[1:20,]"
   ]
  },
  {
   "cell_type": "code",
   "execution_count": null,
   "metadata": {
    "id": "DWz3fWzGOQl1"
   },
   "outputs": [],
   "source": []
  }
 ],
 "metadata": {
  "colab": {
   "authorship_tag": "ABX9TyNtjrXJRY5M2Xlu6VGv174m",
   "collapsed_sections": [],
   "name": "Copy of Calc probability collision ip and port only.R",
   "provenance": []
  },
  "kernelspec": {
   "display_name": "Python 3",
   "language": "python",
   "name": "python3"
  },
  "language_info": {
   "codemirror_mode": {
    "name": "ipython",
    "version": 3
   },
   "file_extension": ".py",
   "mimetype": "text/x-python",
   "name": "python",
   "nbconvert_exporter": "python",
   "pygments_lexer": "ipython3",
   "version": "3.6.7"
  }
 },
 "nbformat": 4,
 "nbformat_minor": 1
}
